{
 "cells": [
  {
   "cell_type": "markdown",
   "id": "b0c5cb74",
   "metadata": {},
   "source": [
    "# 4.05 Deriving New Variables\n",
    "#### 01. Importing Libraries\n",
    "#### 02. Importing Data\n",
    "#### 03. Price Range Flag\n",
    "#### 04. Busiest Day Flags\n",
    "#### 05. Busiest Period of the Day Flag"
   ]
  },
  {
   "cell_type": "markdown",
   "id": "638f1b7a",
   "metadata": {},
   "source": [
    "# 01. Importing Libraries"
   ]
  },
  {
   "cell_type": "code",
   "execution_count": 1,
   "id": "a27a9b5f",
   "metadata": {},
   "outputs": [],
   "source": [
    "#Import libraries - pandas, Numpy, OS\n",
    "import pandas as pd\n",
    "import numpy as np\n",
    "import os"
   ]
  },
  {
   "cell_type": "markdown",
   "id": "ab4d8595",
   "metadata": {},
   "source": [
    "# 02. Importing Data"
   ]
  },
  {
   "cell_type": "code",
   "execution_count": 2,
   "id": "453d8e22",
   "metadata": {},
   "outputs": [],
   "source": [
    "#Creating a path to the root directory for this project\n",
    "path = r'C:\\Users\\theva\\OneDrive\\CareerFoundry\\Data Immersion\\A4\\Instacart Basket Analysis 11-2022'"
   ]
  },
  {
   "cell_type": "code",
   "execution_count": 5,
   "id": "9b49ee16",
   "metadata": {},
   "outputs": [],
   "source": [
    "#Importing orders_products_merged.pkl as df_op_merged\n",
    "df_op_merged = pd.read_pickle(os.path.join(path, '02 Data', 'Prepared Data', 'orders_products_merged.pkl'))"
   ]
  },
  {
   "cell_type": "markdown",
   "id": "9d64d5bc",
   "metadata": {},
   "source": [
    "# 03. Price Range Flag"
   ]
  },
  {
   "cell_type": "markdown",
   "id": "4cab3901",
   "metadata": {},
   "source": [
    "#### Price ranges found for DF subset"
   ]
  },
  {
   "cell_type": "code",
   "execution_count": 26,
   "id": "d80cc2e8",
   "metadata": {},
   "outputs": [],
   "source": [
    "#loc statment for prices greater than 15\n",
    "df.loc[df['prices'] > 15, 'price_range_loc'] = 'High-range product'"
   ]
  },
  {
   "cell_type": "code",
   "execution_count": 24,
   "id": "56534332",
   "metadata": {},
   "outputs": [],
   "source": [
    "#loc statment for prices greater than 5 and less than or equal to 15\n",
    "df.loc[(df['prices'] <= 15) & (df['prices'] > 5), 'price_range_loc'] = 'Mid-range product' "
   ]
  },
  {
   "cell_type": "code",
   "execution_count": 25,
   "id": "7b8ac2ae",
   "metadata": {},
   "outputs": [],
   "source": [
    "#loc statement for prices less than or equal to 5\n",
    "df.loc[df['prices'] <= 5, 'price_range_loc'] = 'Low-range product'"
   ]
  },
  {
   "cell_type": "code",
   "execution_count": 27,
   "id": "77c37c6f",
   "metadata": {},
   "outputs": [
    {
     "data": {
      "text/plain": [
       "Mid-range product    756450\n",
       "Low-range product    243550\n",
       "Name: price_range_loc, dtype: int64"
      ]
     },
     "execution_count": 27,
     "metadata": {},
     "output_type": "execute_result"
    }
   ],
   "source": [
    "#Count the frequency of each price range\n",
    "df['price_range_loc'].value_counts(dropna = False)"
   ]
  },
  {
   "cell_type": "markdown",
   "id": "2dc6503e",
   "metadata": {},
   "source": [
    "#### Price ranges found for entire DF"
   ]
  },
  {
   "cell_type": "code",
   "execution_count": 28,
   "id": "1a2324a6",
   "metadata": {},
   "outputs": [],
   "source": [
    "#loc statment for prices greater than 15\n",
    "df_op_merged.loc[df_op_merged['prices'] > 15, 'price_range_loc'] = 'High-range product'"
   ]
  },
  {
   "cell_type": "code",
   "execution_count": 29,
   "id": "41c0a143",
   "metadata": {},
   "outputs": [],
   "source": [
    "#loc statment for prices greater than 5 and less than or equal to 15\n",
    "df_op_merged.loc[(df_op_merged['prices'] <= 15) & (df_op_merged['prices'] > 5), 'price_range_loc'] = 'Mid-range product' "
   ]
  },
  {
   "cell_type": "code",
   "execution_count": 30,
   "id": "b37c0a6b",
   "metadata": {},
   "outputs": [],
   "source": [
    "#loc statement for prices less than or equal to 5\n",
    "df_op_merged.loc[df_op_merged['prices'] <= 5, 'price_range_loc'] = 'Low-range product'"
   ]
  },
  {
   "cell_type": "code",
   "execution_count": 31,
   "id": "67ff30a8",
   "metadata": {},
   "outputs": [
    {
     "data": {
      "text/plain": [
       "Mid-range product     21860860\n",
       "Low-range product     10126321\n",
       "High-range product      417678\n",
       "Name: price_range_loc, dtype: int64"
      ]
     },
     "execution_count": 31,
     "metadata": {},
     "output_type": "execute_result"
    }
   ],
   "source": [
    "#Count the frequency of each price range\n",
    "df_op_merged['price_range_loc'].value_counts(dropna = False)"
   ]
  },
  {
   "cell_type": "markdown",
   "id": "123f4880",
   "metadata": {},
   "source": [
    "# 04. Busiest Day Flags"
   ]
  },
  {
   "cell_type": "markdown",
   "id": "689d3bfe",
   "metadata": {},
   "source": [
    "#### Variable for the busiest and least busy days."
   ]
  },
  {
   "cell_type": "code",
   "execution_count": 33,
   "id": "70fda938",
   "metadata": {},
   "outputs": [
    {
     "data": {
      "text/plain": [
       "0    6204182\n",
       "1    5660230\n",
       "6    4496490\n",
       "2    4213830\n",
       "5    4205791\n",
       "3    3840534\n",
       "4    3783802\n",
       "Name: orders_day_of_week, dtype: int64"
      ]
     },
     "execution_count": 33,
     "metadata": {},
     "output_type": "execute_result"
    }
   ],
   "source": [
    "#Days of the week frequency\n",
    "df_op_merged['orders_day_of_week'].value_counts(dropna = False)"
   ]
  },
  {
   "cell_type": "code",
   "execution_count": 34,
   "id": "d4f92a4d",
   "metadata": {},
   "outputs": [],
   "source": [
    "#For loop to populate a list with business flag\n",
    "result = []\n",
    "\n",
    "for value in df_op_merged[\"orders_day_of_week\"]:\n",
    "  if value == 0:\n",
    "    result.append(\"Busiest day\")\n",
    "  elif value == 4:\n",
    "    result.append(\"Least busy\")\n",
    "  else:\n",
    "    result.append(\"Regularly busy\")"
   ]
  },
  {
   "cell_type": "code",
   "execution_count": 38,
   "id": "717b773e",
   "metadata": {},
   "outputs": [],
   "source": [
    "#Create and populate busiest_day variable with 'result' list\n",
    "df_op_merged['busiest_day'] = result"
   ]
  },
  {
   "cell_type": "code",
   "execution_count": 39,
   "id": "91fdaedc",
   "metadata": {},
   "outputs": [
    {
     "data": {
      "text/plain": [
       "Regularly busy    22416875\n",
       "Busiest day        6204182\n",
       "Least busy         3783802\n",
       "Name: busiest_day, dtype: int64"
      ]
     },
     "execution_count": 39,
     "metadata": {},
     "output_type": "execute_result"
    }
   ],
   "source": [
    "#Count the frequency of business flags\n",
    "df_op_merged['busiest_day'].value_counts(dropna = False)"
   ]
  },
  {
   "cell_type": "markdown",
   "id": "7e33a3d8",
   "metadata": {},
   "source": [
    "#### Variable for the TWO busiest and the TWO least busy days."
   ]
  },
  {
   "cell_type": "code",
   "execution_count": 41,
   "id": "4176dccc",
   "metadata": {},
   "outputs": [
    {
     "data": {
      "text/plain": [
       "0    6204182\n",
       "1    5660230\n",
       "6    4496490\n",
       "2    4213830\n",
       "5    4205791\n",
       "3    3840534\n",
       "4    3783802\n",
       "Name: orders_day_of_week, dtype: int64"
      ]
     },
     "execution_count": 41,
     "metadata": {},
     "output_type": "execute_result"
    }
   ],
   "source": [
    "#Days of the week frequency\n",
    "df_op_merged['orders_day_of_week'].value_counts(dropna = False)"
   ]
  },
  {
   "cell_type": "markdown",
   "id": "99744ecc",
   "metadata": {},
   "source": [
    "Busiest days: 0,1.  Slowest days: 3, 4"
   ]
  },
  {
   "cell_type": "code",
   "execution_count": 49,
   "id": "30669ea7",
   "metadata": {},
   "outputs": [],
   "source": [
    "#For loop to populate a list with day of week business flag\n",
    "result = []\n",
    "\n",
    "for value in df_op_merged[\"orders_day_of_week\"]:\n",
    "  if (value == 0) | (value == 1):\n",
    "    result.append(\"Busy day\")\n",
    "  elif (value == 3) | (value == 4):\n",
    "    result.append(\"Slow day\")\n",
    "  else:\n",
    "    result.append(\"Regular day\")"
   ]
  },
  {
   "cell_type": "code",
   "execution_count": 50,
   "id": "536b3fa6",
   "metadata": {},
   "outputs": [],
   "source": [
    "#Create and populate busiest_day variable with 'result' list\n",
    "df_op_merged['busy_days'] = result"
   ]
  },
  {
   "cell_type": "code",
   "execution_count": 51,
   "id": "bf822292",
   "metadata": {
    "scrolled": true
   },
   "outputs": [
    {
     "data": {
      "text/plain": [
       "Regular day    12916111\n",
       "Busy day       11864412\n",
       "Slow day        7624336\n",
       "Name: busy_days, dtype: int64"
      ]
     },
     "execution_count": 51,
     "metadata": {},
     "output_type": "execute_result"
    }
   ],
   "source": [
    "#Count the frequency of business flags\n",
    "df_op_merged['busy_days'].value_counts(dropna = False)"
   ]
  },
  {
   "cell_type": "markdown",
   "id": "5de1ca84",
   "metadata": {},
   "source": [
    "Notes: The two busiest days are almost twice as productive as the two slowest days. The two busiest days are both weekend days."
   ]
  },
  {
   "cell_type": "markdown",
   "id": "d486c508",
   "metadata": {},
   "source": [
    "# 05. Busiest Period of the Day Flag"
   ]
  },
  {
   "cell_type": "code",
   "execution_count": 53,
   "id": "6fbd69e1",
   "metadata": {},
   "outputs": [
    {
     "data": {
      "text/plain": [
       "10    2761760\n",
       "11    2736140\n",
       "14    2689136\n",
       "15    2662144\n",
       "13    2660954\n",
       "12    2618532\n",
       "16    2535202\n",
       "9     2454203\n",
       "17    2087654\n",
       "8     1718118\n",
       "18    1636502\n",
       "19    1258305\n",
       "20     976156\n",
       "7      891054\n",
       "21     795637\n",
       "22     634225\n",
       "23     402316\n",
       "6      290493\n",
       "0      218769\n",
       "1      115700\n",
       "5       87961\n",
       "2       69375\n",
       "4       53242\n",
       "3       51281\n",
       "Name: order_hour_of_day, dtype: int64"
      ]
     },
     "execution_count": 53,
     "metadata": {},
     "output_type": "execute_result"
    }
   ],
   "source": [
    "#Hour of the day frequency\n",
    "df_op_merged['order_hour_of_day'].value_counts(dropna = False)"
   ]
  },
  {
   "cell_type": "markdown",
   "id": "a6ddb51e",
   "metadata": {},
   "source": [
    "Notes: 9 to 16 make up the busiest 1/3 of the day. 0-6 and 23 make up the least buys 1/3 of the day."
   ]
  },
  {
   "cell_type": "code",
   "execution_count": 54,
   "id": "4d9bccfd",
   "metadata": {},
   "outputs": [],
   "source": [
    "#For loop to populate a list with hours of the day business flag\n",
    "result = []\n",
    "\n",
    "for value in df_op_merged[\"order_hour_of_day\"]:\n",
    "  if (value >= 9) & (value <= 16):\n",
    "    result.append(\"Most orders\")\n",
    "  elif (value == 23) | (value >= 0) & (value <= 6):\n",
    "    result.append(\"Fewest orders\")\n",
    "  else:\n",
    "    result.append(\"Average orders\")"
   ]
  },
  {
   "cell_type": "code",
   "execution_count": 55,
   "id": "5d287c84",
   "metadata": {},
   "outputs": [],
   "source": [
    "#Create and populate busiest_period_of_day variable with 'result' list\n",
    "df_op_merged['busiest_period_of_day'] = result"
   ]
  },
  {
   "cell_type": "code",
   "execution_count": 56,
   "id": "fa26c794",
   "metadata": {
    "scrolled": true
   },
   "outputs": [
    {
     "data": {
      "text/plain": [
       "Most orders       21118071\n",
       "Average orders     9997651\n",
       "Fewest orders      1289137\n",
       "Name: busiest_period_of_day, dtype: int64"
      ]
     },
     "execution_count": 56,
     "metadata": {},
     "output_type": "execute_result"
    }
   ],
   "source": [
    "#Count the frequency of business flags\n",
    "df_op_merged['busiest_period_of_day'].value_counts(dropna = False)"
   ]
  },
  {
   "cell_type": "markdown",
   "id": "35ef11ae",
   "metadata": {},
   "source": [
    "## Export new dataframe"
   ]
  },
  {
   "cell_type": "code",
   "execution_count": 57,
   "id": "a551cfe5",
   "metadata": {},
   "outputs": [
    {
     "data": {
      "text/plain": [
       "(32404859, 17)"
      ]
     },
     "execution_count": 57,
     "metadata": {},
     "output_type": "execute_result"
    }
   ],
   "source": [
    "#Verifying shape before export\n",
    "df_op_merged.shape"
   ]
  },
  {
   "cell_type": "code",
   "execution_count": 58,
   "id": "679bbe1e",
   "metadata": {},
   "outputs": [],
   "source": [
    "#Exporting merged dataframe\n",
    "df_op_merged.to_pickle(os.path.join(path, '02 Data','Prepared Data', 'orders_products_extended.pkl'))"
   ]
  }
 ],
 "metadata": {
  "kernelspec": {
   "display_name": "Python 3 (ipykernel)",
   "language": "python",
   "name": "python3"
  },
  "language_info": {
   "codemirror_mode": {
    "name": "ipython",
    "version": 3
   },
   "file_extension": ".py",
   "mimetype": "text/x-python",
   "name": "python",
   "nbconvert_exporter": "python",
   "pygments_lexer": "ipython3",
   "version": "3.9.13"
  }
 },
 "nbformat": 4,
 "nbformat_minor": 5
}
