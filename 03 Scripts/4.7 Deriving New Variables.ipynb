{
 "cells": [
  {
   "cell_type": "markdown",
   "id": "b0c5cb74",
   "metadata": {},
   "source": [
    "# 4.7 Deriving New Variables\n",
    "#### 01. Importing Libraries\n",
    "#### 02. Importing Data\n",
    "#### 03. If-Statments with User-defined Functions\n",
    "#### 04. If-Statements with loc()\n",
    "#### 05. If-Statements with For-Loops\n",
    "#### 06. Task"
   ]
  },
  {
   "cell_type": "markdown",
   "id": "638f1b7a",
   "metadata": {},
   "source": [
    "# 01. Importing Libraries"
   ]
  },
  {
   "cell_type": "code",
   "execution_count": 1,
   "id": "a27a9b5f",
   "metadata": {},
   "outputs": [],
   "source": [
    "#Import libraries - pandas, Numpy, OS\n",
    "import pandas as pd\n",
    "import numpy as np\n",
    "import os"
   ]
  },
  {
   "cell_type": "markdown",
   "id": "ab4d8595",
   "metadata": {},
   "source": [
    "# 02. Importing Data"
   ]
  },
  {
   "cell_type": "code",
   "execution_count": 2,
   "id": "453d8e22",
   "metadata": {},
   "outputs": [],
   "source": [
    "#Creating a path to the root directory for this project\n",
    "path = r'C:\\Users\\theva\\OneDrive\\CareerFoundry\\Data Immersion\\A4\\Instacart Basket Analysis 11-2022'"
   ]
  },
  {
   "cell_type": "code",
   "execution_count": 5,
   "id": "9b49ee16",
   "metadata": {},
   "outputs": [],
   "source": [
    "#Importing orders_products_merged.pkl as df_op_merged\n",
    "df_op_merged = pd.read_pickle(os.path.join(path, '02 Data', 'Prepared Data', 'orders_products_merged.pkl'))"
   ]
  },
  {
   "cell_type": "markdown",
   "id": "d9796d8f",
   "metadata": {},
   "source": [
    "# 03. If-Statments with User-defined Functions"
   ]
  },
  {
   "cell_type": "markdown",
   "id": "131baff3",
   "metadata": {},
   "source": [
    "#### Demo Function"
   ]
  },
  {
   "cell_type": "code",
   "execution_count": null,
   "id": "7291ae75",
   "metadata": {},
   "outputs": [],
   "source": [
    "#Define function\n",
    "def add_num(x,y):\n",
    "    sum = x + y\n",
    "    return sum"
   ]
  },
  {
   "cell_type": "code",
   "execution_count": null,
   "id": "8c7fc8b7",
   "metadata": {},
   "outputs": [],
   "source": [
    "#Run function\n",
    "add_num(9,11)"
   ]
  },
  {
   "cell_type": "markdown",
   "id": "0a70c2db",
   "metadata": {},
   "source": [
    "#### Price Range Function"
   ]
  },
  {
   "cell_type": "code",
   "execution_count": 7,
   "id": "ddea8bef",
   "metadata": {},
   "outputs": [],
   "source": [
    "#create a subset of 1,000,000 rows\n",
    "df = df_op_merged[:1000000]"
   ]
  },
  {
   "cell_type": "code",
   "execution_count": 10,
   "id": "a680cddb",
   "metadata": {},
   "outputs": [],
   "source": [
    "#Define function to make price flags for: low, medium, and high\n",
    "def price_label(row):\n",
    "\n",
    "  if row['prices'] <= 5:\n",
    "    return 'Low-range product'\n",
    "  elif (row['prices'] > 5) and (row['prices'] <= 15):\n",
    "    return 'Mid-range product'\n",
    "  elif row['prices'] > 15:\n",
    "    return 'High range'\n",
    "  else: return 'Not enough data'"
   ]
  },
  {
   "cell_type": "code",
   "execution_count": 12,
   "id": "6292e107",
   "metadata": {},
   "outputs": [
    {
     "name": "stderr",
     "output_type": "stream",
     "text": [
      "C:\\Users\\theva\\AppData\\Local\\Temp\\ipykernel_14916\\4223071481.py:2: SettingWithCopyWarning: \n",
      "A value is trying to be set on a copy of a slice from a DataFrame.\n",
      "Try using .loc[row_indexer,col_indexer] = value instead\n",
      "\n",
      "See the caveats in the documentation: https://pandas.pydata.org/pandas-docs/stable/user_guide/indexing.html#returning-a-view-versus-a-copy\n",
      "  df['price_range'] = df.apply(price_label, axis=1)\n"
     ]
    }
   ],
   "source": [
    "#Run the price sorting function in a new variable in df\n",
    "df['price_range'] = df.apply(price_label, axis=1)"
   ]
  },
  {
   "cell_type": "code",
   "execution_count": 18,
   "id": "4946bf50",
   "metadata": {},
   "outputs": [
    {
     "data": {
      "text/plain": [
       "Mid-range product    756450\n",
       "Low-range product    243550\n",
       "Name: price_range, dtype: int64"
      ]
     },
     "execution_count": 18,
     "metadata": {},
     "output_type": "execute_result"
    }
   ],
   "source": [
    "#Count the frequency of each price range\n",
    "df['price_range'].value_counts(dropna = False)"
   ]
  },
  {
   "cell_type": "code",
   "execution_count": 20,
   "id": "b4487a26",
   "metadata": {},
   "outputs": [
    {
     "data": {
      "text/plain": [
       "(1.0, 14.8)"
      ]
     },
     "execution_count": 20,
     "metadata": {},
     "output_type": "execute_result"
    }
   ],
   "source": [
    "#Check the min and max of the subset prices\n",
    "df['prices'].min(), df['prices'].max()"
   ]
  },
  {
   "cell_type": "markdown",
   "id": "9d64d5bc",
   "metadata": {},
   "source": [
    "# 04. If-Statements with loc()"
   ]
  },
  {
   "cell_type": "markdown",
   "id": "4cab3901",
   "metadata": {},
   "source": [
    "#### Price ranges found for DF subset"
   ]
  },
  {
   "cell_type": "code",
   "execution_count": 26,
   "id": "d80cc2e8",
   "metadata": {},
   "outputs": [],
   "source": [
    "#loc statment for prices greater than 15\n",
    "df.loc[df['prices'] > 15, 'price_range_loc'] = 'High-range product'"
   ]
  },
  {
   "cell_type": "code",
   "execution_count": 24,
   "id": "56534332",
   "metadata": {},
   "outputs": [],
   "source": [
    "#loc statment for prices greater than 5 and less than or equal to 15\n",
    "df.loc[(df['prices'] <= 15) & (df['prices'] > 5), 'price_range_loc'] = 'Mid-range product' "
   ]
  },
  {
   "cell_type": "code",
   "execution_count": 25,
   "id": "7b8ac2ae",
   "metadata": {},
   "outputs": [],
   "source": [
    "#loc statement for prices less than or equal to 5\n",
    "df.loc[df['prices'] <= 5, 'price_range_loc'] = 'Low-range product'"
   ]
  },
  {
   "cell_type": "code",
   "execution_count": 27,
   "id": "77c37c6f",
   "metadata": {},
   "outputs": [
    {
     "data": {
      "text/plain": [
       "Mid-range product    756450\n",
       "Low-range product    243550\n",
       "Name: price_range_loc, dtype: int64"
      ]
     },
     "execution_count": 27,
     "metadata": {},
     "output_type": "execute_result"
    }
   ],
   "source": [
    "#Count the frequency of each price range\n",
    "df['price_range_loc'].value_counts(dropna = False)"
   ]
  },
  {
   "cell_type": "markdown",
   "id": "2dc6503e",
   "metadata": {},
   "source": [
    "#### Price ranges found for entire DF"
   ]
  },
  {
   "cell_type": "code",
   "execution_count": 28,
   "id": "1a2324a6",
   "metadata": {},
   "outputs": [],
   "source": [
    "#loc statment for prices greater than 15\n",
    "df_op_merged.loc[df_op_merged['prices'] > 15, 'price_range_loc'] = 'High-range product'"
   ]
  },
  {
   "cell_type": "code",
   "execution_count": 29,
   "id": "41c0a143",
   "metadata": {},
   "outputs": [],
   "source": [
    "#loc statment for prices greater than 5 and less than or equal to 15\n",
    "df_op_merged.loc[(df_op_merged['prices'] <= 15) & (df_op_merged['prices'] > 5), 'price_range_loc'] = 'Mid-range product' "
   ]
  },
  {
   "cell_type": "code",
   "execution_count": 30,
   "id": "b37c0a6b",
   "metadata": {},
   "outputs": [],
   "source": [
    "#loc statement for prices less than or equal to 5\n",
    "df_op_merged.loc[df_op_merged['prices'] <= 5, 'price_range_loc'] = 'Low-range product'"
   ]
  },
  {
   "cell_type": "code",
   "execution_count": 31,
   "id": "67ff30a8",
   "metadata": {},
   "outputs": [
    {
     "data": {
      "text/plain": [
       "Mid-range product     21860860\n",
       "Low-range product     10126321\n",
       "High-range product      417678\n",
       "Name: price_range_loc, dtype: int64"
      ]
     },
     "execution_count": 31,
     "metadata": {},
     "output_type": "execute_result"
    }
   ],
   "source": [
    "#Count the frequency of each price range\n",
    "df_op_merged['price_range_loc'].value_counts(dropna = False)"
   ]
  },
  {
   "cell_type": "markdown",
   "id": "123f4880",
   "metadata": {},
   "source": [
    "# 05. If-Statements with For-Loops"
   ]
  },
  {
   "cell_type": "code",
   "execution_count": 33,
   "id": "70fda938",
   "metadata": {},
   "outputs": [
    {
     "data": {
      "text/plain": [
       "0    6204182\n",
       "1    5660230\n",
       "6    4496490\n",
       "2    4213830\n",
       "5    4205791\n",
       "3    3840534\n",
       "4    3783802\n",
       "Name: orders_day_of_week, dtype: int64"
      ]
     },
     "execution_count": 33,
     "metadata": {},
     "output_type": "execute_result"
    }
   ],
   "source": [
    "#Days of the week frequency\n",
    "df_op_merged['orders_day_of_week'].value_counts(dropna = False)"
   ]
  },
  {
   "cell_type": "code",
   "execution_count": 34,
   "id": "d4f92a4d",
   "metadata": {},
   "outputs": [],
   "source": [
    "#For loop to populate a list with business flag\n",
    "result = []\n",
    "\n",
    "for value in df_op_merged[\"orders_day_of_week\"]:\n",
    "  if value == 0:\n",
    "    result.append(\"Busiest day\")\n",
    "  elif value == 4:\n",
    "    result.append(\"Least busy\")\n",
    "  else:\n",
    "    result.append(\"Regularly busy\")"
   ]
  },
  {
   "cell_type": "code",
   "execution_count": 38,
   "id": "717b773e",
   "metadata": {},
   "outputs": [],
   "source": [
    "#Create and populate busiest_day variable with 'result' list\n",
    "df_op_merged['busiest_day'] = result"
   ]
  },
  {
   "cell_type": "code",
   "execution_count": 39,
   "id": "91fdaedc",
   "metadata": {},
   "outputs": [
    {
     "data": {
      "text/plain": [
       "Regularly busy    22416875\n",
       "Busiest day        6204182\n",
       "Least busy         3783802\n",
       "Name: busiest_day, dtype: int64"
      ]
     },
     "execution_count": 39,
     "metadata": {},
     "output_type": "execute_result"
    }
   ],
   "source": [
    "#Count the frequency of business flags\n",
    "df_op_merged['busiest_day'].value_counts(dropna = False)"
   ]
  },
  {
   "cell_type": "markdown",
   "id": "e4f611b8",
   "metadata": {},
   "source": [
    "# 06. Task"
   ]
  },
  {
   "cell_type": "code",
   "execution_count": 40,
   "id": "eff19e86",
   "metadata": {},
   "outputs": [
    {
     "data": {
      "text/html": [
       "<div>\n",
       "<style scoped>\n",
       "    .dataframe tbody tr th:only-of-type {\n",
       "        vertical-align: middle;\n",
       "    }\n",
       "\n",
       "    .dataframe tbody tr th {\n",
       "        vertical-align: top;\n",
       "    }\n",
       "\n",
       "    .dataframe thead th {\n",
       "        text-align: right;\n",
       "    }\n",
       "</style>\n",
       "<table border=\"1\" class=\"dataframe\">\n",
       "  <thead>\n",
       "    <tr style=\"text-align: right;\">\n",
       "      <th></th>\n",
       "      <th>order_id</th>\n",
       "      <th>user_id</th>\n",
       "      <th>order_number</th>\n",
       "      <th>orders_day_of_week</th>\n",
       "      <th>order_hour_of_day</th>\n",
       "      <th>days_since_prior_order</th>\n",
       "      <th>product_id</th>\n",
       "      <th>add_to_cart_order</th>\n",
       "      <th>reordered</th>\n",
       "      <th>product_name</th>\n",
       "      <th>aisle_id</th>\n",
       "      <th>department_id</th>\n",
       "      <th>prices</th>\n",
       "      <th>price_range_loc</th>\n",
       "      <th>busiest_day</th>\n",
       "    </tr>\n",
       "  </thead>\n",
       "  <tbody>\n",
       "    <tr>\n",
       "      <th>0</th>\n",
       "      <td>2539329</td>\n",
       "      <td>1</td>\n",
       "      <td>1</td>\n",
       "      <td>2</td>\n",
       "      <td>8</td>\n",
       "      <td>999.0</td>\n",
       "      <td>196</td>\n",
       "      <td>1</td>\n",
       "      <td>0</td>\n",
       "      <td>Soda</td>\n",
       "      <td>77</td>\n",
       "      <td>7</td>\n",
       "      <td>9.0</td>\n",
       "      <td>Mid-range product</td>\n",
       "      <td>Regularly busy</td>\n",
       "    </tr>\n",
       "    <tr>\n",
       "      <th>1</th>\n",
       "      <td>2398795</td>\n",
       "      <td>1</td>\n",
       "      <td>2</td>\n",
       "      <td>3</td>\n",
       "      <td>7</td>\n",
       "      <td>15.0</td>\n",
       "      <td>196</td>\n",
       "      <td>1</td>\n",
       "      <td>1</td>\n",
       "      <td>Soda</td>\n",
       "      <td>77</td>\n",
       "      <td>7</td>\n",
       "      <td>9.0</td>\n",
       "      <td>Mid-range product</td>\n",
       "      <td>Regularly busy</td>\n",
       "    </tr>\n",
       "    <tr>\n",
       "      <th>2</th>\n",
       "      <td>473747</td>\n",
       "      <td>1</td>\n",
       "      <td>3</td>\n",
       "      <td>3</td>\n",
       "      <td>12</td>\n",
       "      <td>21.0</td>\n",
       "      <td>196</td>\n",
       "      <td>1</td>\n",
       "      <td>1</td>\n",
       "      <td>Soda</td>\n",
       "      <td>77</td>\n",
       "      <td>7</td>\n",
       "      <td>9.0</td>\n",
       "      <td>Mid-range product</td>\n",
       "      <td>Regularly busy</td>\n",
       "    </tr>\n",
       "    <tr>\n",
       "      <th>3</th>\n",
       "      <td>2254736</td>\n",
       "      <td>1</td>\n",
       "      <td>4</td>\n",
       "      <td>4</td>\n",
       "      <td>7</td>\n",
       "      <td>29.0</td>\n",
       "      <td>196</td>\n",
       "      <td>1</td>\n",
       "      <td>1</td>\n",
       "      <td>Soda</td>\n",
       "      <td>77</td>\n",
       "      <td>7</td>\n",
       "      <td>9.0</td>\n",
       "      <td>Mid-range product</td>\n",
       "      <td>Least busy</td>\n",
       "    </tr>\n",
       "    <tr>\n",
       "      <th>4</th>\n",
       "      <td>431534</td>\n",
       "      <td>1</td>\n",
       "      <td>5</td>\n",
       "      <td>4</td>\n",
       "      <td>15</td>\n",
       "      <td>28.0</td>\n",
       "      <td>196</td>\n",
       "      <td>1</td>\n",
       "      <td>1</td>\n",
       "      <td>Soda</td>\n",
       "      <td>77</td>\n",
       "      <td>7</td>\n",
       "      <td>9.0</td>\n",
       "      <td>Mid-range product</td>\n",
       "      <td>Least busy</td>\n",
       "    </tr>\n",
       "  </tbody>\n",
       "</table>\n",
       "</div>"
      ],
      "text/plain": [
       "   order_id  user_id  order_number  orders_day_of_week  order_hour_of_day  \\\n",
       "0   2539329        1             1                   2                  8   \n",
       "1   2398795        1             2                   3                  7   \n",
       "2    473747        1             3                   3                 12   \n",
       "3   2254736        1             4                   4                  7   \n",
       "4    431534        1             5                   4                 15   \n",
       "\n",
       "   days_since_prior_order  product_id  add_to_cart_order  reordered  \\\n",
       "0                   999.0         196                  1          0   \n",
       "1                    15.0         196                  1          1   \n",
       "2                    21.0         196                  1          1   \n",
       "3                    29.0         196                  1          1   \n",
       "4                    28.0         196                  1          1   \n",
       "\n",
       "  product_name  aisle_id  department_id  prices    price_range_loc  \\\n",
       "0         Soda        77              7     9.0  Mid-range product   \n",
       "1         Soda        77              7     9.0  Mid-range product   \n",
       "2         Soda        77              7     9.0  Mid-range product   \n",
       "3         Soda        77              7     9.0  Mid-range product   \n",
       "4         Soda        77              7     9.0  Mid-range product   \n",
       "\n",
       "      busiest_day  \n",
       "0  Regularly busy  \n",
       "1  Regularly busy  \n",
       "2  Regularly busy  \n",
       "3      Least busy  \n",
       "4      Least busy  "
      ]
     },
     "execution_count": 40,
     "metadata": {},
     "output_type": "execute_result"
    }
   ],
   "source": [
    "df_op_merged.head()"
   ]
  },
  {
   "cell_type": "markdown",
   "id": "7e33a3d8",
   "metadata": {},
   "source": [
    "#### 2. Make a variable for the two busiest and the two least busy days."
   ]
  },
  {
   "cell_type": "code",
   "execution_count": 41,
   "id": "4176dccc",
   "metadata": {},
   "outputs": [
    {
     "data": {
      "text/plain": [
       "0    6204182\n",
       "1    5660230\n",
       "6    4496490\n",
       "2    4213830\n",
       "5    4205791\n",
       "3    3840534\n",
       "4    3783802\n",
       "Name: orders_day_of_week, dtype: int64"
      ]
     },
     "execution_count": 41,
     "metadata": {},
     "output_type": "execute_result"
    }
   ],
   "source": [
    "#Days of the week frequency\n",
    "df_op_merged['orders_day_of_week'].value_counts(dropna = False)"
   ]
  },
  {
   "cell_type": "markdown",
   "id": "99744ecc",
   "metadata": {},
   "source": [
    "Busiest days: 0,1.  Slowest days: 3, 4"
   ]
  },
  {
   "cell_type": "code",
   "execution_count": 49,
   "id": "30669ea7",
   "metadata": {},
   "outputs": [],
   "source": [
    "#For loop to populate a list with day of week business flag\n",
    "result = []\n",
    "\n",
    "for value in df_op_merged[\"orders_day_of_week\"]:\n",
    "  if (value == 0) | (value == 1):\n",
    "    result.append(\"Busy day\")\n",
    "  elif (value == 3) | (value == 4):\n",
    "    result.append(\"Slow day\")\n",
    "  else:\n",
    "    result.append(\"Regular day\")"
   ]
  },
  {
   "cell_type": "markdown",
   "id": "1a0897cb",
   "metadata": {},
   "source": [
    "Note: I decided to use a for loop because it resulted in the most readable code."
   ]
  },
  {
   "cell_type": "code",
   "execution_count": 50,
   "id": "536b3fa6",
   "metadata": {},
   "outputs": [],
   "source": [
    "#Create and populate busiest_day variable with 'result' list\n",
    "df_op_merged['busy_days'] = result"
   ]
  },
  {
   "cell_type": "markdown",
   "id": "cd9714bd",
   "metadata": {},
   "source": [
    "#### 3. Check the frequency of the results of step 2"
   ]
  },
  {
   "cell_type": "code",
   "execution_count": 51,
   "id": "bf822292",
   "metadata": {
    "scrolled": true
   },
   "outputs": [
    {
     "data": {
      "text/plain": [
       "Regular day    12916111\n",
       "Busy day       11864412\n",
       "Slow day        7624336\n",
       "Name: busy_days, dtype: int64"
      ]
     },
     "execution_count": 51,
     "metadata": {},
     "output_type": "execute_result"
    }
   ],
   "source": [
    "#Count the frequency of business flags\n",
    "df_op_merged['busy_days'].value_counts(dropna = False)"
   ]
  },
  {
   "cell_type": "markdown",
   "id": "5de1ca84",
   "metadata": {},
   "source": [
    "Notes: The two busiest days are almost twice as productive as the two slowest days. The two busiest days are both weekend days."
   ]
  },
  {
   "cell_type": "markdown",
   "id": "d486c508",
   "metadata": {},
   "source": [
    "#### 4. Create a flag for to label the business of each hour of the day."
   ]
  },
  {
   "cell_type": "code",
   "execution_count": 53,
   "id": "6fbd69e1",
   "metadata": {},
   "outputs": [
    {
     "data": {
      "text/plain": [
       "10    2761760\n",
       "11    2736140\n",
       "14    2689136\n",
       "15    2662144\n",
       "13    2660954\n",
       "12    2618532\n",
       "16    2535202\n",
       "9     2454203\n",
       "17    2087654\n",
       "8     1718118\n",
       "18    1636502\n",
       "19    1258305\n",
       "20     976156\n",
       "7      891054\n",
       "21     795637\n",
       "22     634225\n",
       "23     402316\n",
       "6      290493\n",
       "0      218769\n",
       "1      115700\n",
       "5       87961\n",
       "2       69375\n",
       "4       53242\n",
       "3       51281\n",
       "Name: order_hour_of_day, dtype: int64"
      ]
     },
     "execution_count": 53,
     "metadata": {},
     "output_type": "execute_result"
    }
   ],
   "source": [
    "#Hour of the day frequency\n",
    "df_op_merged['order_hour_of_day'].value_counts(dropna = False)"
   ]
  },
  {
   "cell_type": "markdown",
   "id": "a6ddb51e",
   "metadata": {},
   "source": [
    "Notes: 9 to 16 make up the busiest 1/3 of the day. 0-6 and 23 make up the least buys 1/3 of the day."
   ]
  },
  {
   "cell_type": "code",
   "execution_count": 54,
   "id": "4d9bccfd",
   "metadata": {},
   "outputs": [],
   "source": [
    "#For loop to populate a list with hours of the day business flag\n",
    "result = []\n",
    "\n",
    "for value in df_op_merged[\"order_hour_of_day\"]:\n",
    "  if (value >= 9) & (value <= 16):\n",
    "    result.append(\"Most orders\")\n",
    "  elif (value == 23) | (value >= 0) & (value <= 6):\n",
    "    result.append(\"Fewest orders\")\n",
    "  else:\n",
    "    result.append(\"Average orders\")"
   ]
  },
  {
   "cell_type": "code",
   "execution_count": 55,
   "id": "5d287c84",
   "metadata": {},
   "outputs": [],
   "source": [
    "#Create and populate busiest_period_of_day variable with 'result' list\n",
    "df_op_merged['busiest_period_of_day'] = result"
   ]
  },
  {
   "cell_type": "markdown",
   "id": "54d06f5d",
   "metadata": {},
   "source": [
    "Note: I decided to use a for loop because it resulted in the most readable code."
   ]
  },
  {
   "cell_type": "markdown",
   "id": "8005023c",
   "metadata": {},
   "source": [
    "#### 5. Print the frequency for this new column."
   ]
  },
  {
   "cell_type": "code",
   "execution_count": 56,
   "id": "fa26c794",
   "metadata": {
    "scrolled": true
   },
   "outputs": [
    {
     "data": {
      "text/plain": [
       "Most orders       21118071\n",
       "Average orders     9997651\n",
       "Fewest orders      1289137\n",
       "Name: busiest_period_of_day, dtype: int64"
      ]
     },
     "execution_count": 56,
     "metadata": {},
     "output_type": "execute_result"
    }
   ],
   "source": [
    "#Count the frequency of business flags\n",
    "df_op_merged['busiest_period_of_day'].value_counts(dropna = False)"
   ]
  },
  {
   "cell_type": "markdown",
   "id": "35ef11ae",
   "metadata": {},
   "source": [
    "#### 7. Export new dataframe as a pickle"
   ]
  },
  {
   "cell_type": "code",
   "execution_count": 57,
   "id": "a551cfe5",
   "metadata": {},
   "outputs": [
    {
     "data": {
      "text/plain": [
       "(32404859, 17)"
      ]
     },
     "execution_count": 57,
     "metadata": {},
     "output_type": "execute_result"
    }
   ],
   "source": [
    "#Verifying shape before export\n",
    "df_op_merged.shape"
   ]
  },
  {
   "cell_type": "code",
   "execution_count": 58,
   "id": "679bbe1e",
   "metadata": {},
   "outputs": [],
   "source": [
    "#Exporting merged dataframe\n",
    "df_op_merged.to_pickle(os.path.join(path, '02 Data','Prepared Data', 'orders_products_extended.pkl'))"
   ]
  },
  {
   "cell_type": "code",
   "execution_count": null,
   "id": "8b4f2787",
   "metadata": {},
   "outputs": [],
   "source": []
  }
 ],
 "metadata": {
  "kernelspec": {
   "display_name": "Python 3 (ipykernel)",
   "language": "python",
   "name": "python3"
  },
  "language_info": {
   "codemirror_mode": {
    "name": "ipython",
    "version": 3
   },
   "file_extension": ".py",
   "mimetype": "text/x-python",
   "name": "python",
   "nbconvert_exporter": "python",
   "pygments_lexer": "ipython3",
   "version": "3.9.13"
  }
 },
 "nbformat": 4,
 "nbformat_minor": 5
}
