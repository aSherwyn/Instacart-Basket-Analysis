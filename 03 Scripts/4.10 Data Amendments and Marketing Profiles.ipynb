{
 "cells": [
  {
   "cell_type": "markdown",
   "id": "2df70847",
   "metadata": {},
   "source": [
    "# 4.10: Data Amendments and Marketing Profiles\n",
    "### 1. Import Libraries and Data\n",
    "### 2. Privacy concerns\n",
    "### 3. Region Variable\n",
    "### 4. Low-activity Flag\n",
    "### 5. Marketing Profiles\n",
    "#### --5.1 Age Profile\n",
    "#### --5.2 Income Profile\n",
    "#### --5.3 Lifestyle Profile\n",
    "#### --5.4 Alcohol Flag\n",
    "#### --5.5 Baby at Home Flag\n",
    "#### --5.6 Favorite Shopping Time Period\n",
    "#### --5.7 Favorite Shopping Day\n",
    "### 6. Dropping Unused Variables\n",
    "### 7. Exporting Data Set"
   ]
  },
  {
   "cell_type": "markdown",
   "id": "638f1b7a",
   "metadata": {},
   "source": [
    "# 1. Import Libraries and Data"
   ]
  },
  {
   "cell_type": "code",
   "execution_count": 1,
   "id": "a27a9b5f",
   "metadata": {},
   "outputs": [],
   "source": [
    "#Import libraries - pandas, Numpy, OS\n",
    "import pandas as pd\n",
    "import numpy as np\n",
    "import os\n",
    "import matplotlib.pyplot as plt\n",
    "import seaborn as sns\n",
    "import scipy"
   ]
  },
  {
   "cell_type": "code",
   "execution_count": 2,
   "id": "453d8e22",
   "metadata": {},
   "outputs": [],
   "source": [
    "#Creating a path to the root directory for this project\n",
    "path = r'C:\\Users\\theva\\OneDrive\\CareerFoundry\\Data Immersion\\A4\\Instacart Basket Analysis 11-2022'"
   ]
  },
  {
   "cell_type": "code",
   "execution_count": 3,
   "id": "3e30b94c",
   "metadata": {},
   "outputs": [],
   "source": [
    "#Importing pickle\n",
    "ords_prods_merge = pd.read_pickle(os.path.join(path, '02 Data','Prepared Data', 'orders_products_customers.pkl'))"
   ]
  },
  {
   "cell_type": "code",
   "execution_count": 4,
   "id": "fcdc83f2",
   "metadata": {},
   "outputs": [
    {
     "data": {
      "text/plain": [
       "(32404859, 29)"
      ]
     },
     "execution_count": 4,
     "metadata": {},
     "output_type": "execute_result"
    }
   ],
   "source": [
    "#Checking imported dataframe\n",
    "ords_prods_merge.shape"
   ]
  },
  {
   "cell_type": "code",
   "execution_count": 5,
   "id": "b2d1dd89",
   "metadata": {},
   "outputs": [],
   "source": [
    "pd.options.display.max_rows = 100"
   ]
  },
  {
   "cell_type": "markdown",
   "id": "c944bafc",
   "metadata": {},
   "source": [
    "# 2. Privacy Concerns\n",
    "\n",
    "#### Consider any security implications that might exist for this new data."
   ]
  },
  {
   "cell_type": "code",
   "execution_count": 6,
   "id": "4c2675d4",
   "metadata": {},
   "outputs": [
    {
     "data": {
      "text/plain": [
       "Index(['order_id', 'user_id', 'order_number', 'orders_day_of_week',\n",
       "       'order_hour_of_day', 'days_since_prior_order', 'product_id',\n",
       "       'add_to_cart_order', 'reordered', 'product_name', 'aisle_id',\n",
       "       'department_id', 'prices', 'price_range_loc', 'busiest_day',\n",
       "       'busy_days', 'busiest_period_of_day', 'max_order', 'loyalty_flag',\n",
       "       'mean_price', 'spender_flag', 'median_order_frequency',\n",
       "       'order_frequency_flag', 'gender', 'state', 'age', 'num_dependants',\n",
       "       'fam_status', 'income'],\n",
       "      dtype='object')"
      ]
     },
     "execution_count": 6,
     "metadata": {},
     "output_type": "execute_result"
    }
   ],
   "source": [
    "#Checking for column names infering possible PIIs\n",
    "ords_prods_merge.columns"
   ]
  },
  {
   "cell_type": "markdown",
   "id": "bd5ddf8b",
   "metadata": {},
   "source": [
    "Notes: Any possible PIIs have already been removed (or not included) in this data set. First and last name were included in the 'customers.csv' data set, but were not included in the final data set as they are not relevant to the analysis."
   ]
  },
  {
   "cell_type": "markdown",
   "id": "d2de84f1",
   "metadata": {},
   "source": [
    "# 3. Region Variable\n",
    "\n",
    "#### Create and analyze a regional segmentation of the data."
   ]
  },
  {
   "cell_type": "markdown",
   "id": "8290bb65",
   "metadata": {},
   "source": [
    "### Create and populate the region column"
   ]
  },
  {
   "cell_type": "code",
   "execution_count": 7,
   "id": "3008977e",
   "metadata": {},
   "outputs": [],
   "source": [
    "#Setting 'region' for Northeast states\n",
    "ords_prods_merge.loc[(ords_prods_merge['state'] == 'Maine') | (ords_prods_merge['state'] == 'New Hampshire') | (ords_prods_merge['state'] == 'Vermont') | (ords_prods_merge['state'] == 'Massachusetts') | (ords_prods_merge['state'] == 'Rhode Island') | (ords_prods_merge['state'] == 'Connecticut') | (ords_prods_merge['state'] == 'New York') | (ords_prods_merge['state'] == 'Pennsylvania') | (ords_prods_merge['state'] == 'New Jersey'), 'region'] = 'Northeast'"
   ]
  },
  {
   "cell_type": "code",
   "execution_count": 8,
   "id": "732e96e6",
   "metadata": {},
   "outputs": [],
   "source": [
    "#Setting 'region' for Midwest states\n",
    "ords_prods_merge.loc[(ords_prods_merge['state'] == 'Wisconsin') | (ords_prods_merge['state'] == 'Michigan') | (ords_prods_merge['state'] == 'Illinois') | (ords_prods_merge['state'] == 'Indiana') | (ords_prods_merge['state'] == 'Ohio') | (ords_prods_merge['state'] == 'North Dakota') | (ords_prods_merge['state'] == 'South Dakota') | (ords_prods_merge['state'] == 'Nebraska') | (ords_prods_merge['state'] == 'Kansas') | (ords_prods_merge['state'] == 'Minnesota') | (ords_prods_merge['state'] == 'Iowa') | (ords_prods_merge['state'] == 'Missouri'), 'region'] = 'Midwest'"
   ]
  },
  {
   "cell_type": "code",
   "execution_count": 9,
   "id": "cc449cb6",
   "metadata": {},
   "outputs": [],
   "source": [
    "#Setting 'region' for South states\n",
    "ords_prods_merge.loc[(ords_prods_merge['state'] == 'Delaware') | (ords_prods_merge['state'] == 'Maryland') | (ords_prods_merge['state'] == 'District of Columbia') | (ords_prods_merge['state'] == 'Virginia') | (ords_prods_merge['state'] == 'West Virginia') | (ords_prods_merge['state'] == 'North Carolina') | (ords_prods_merge['state'] == 'South Carolina') | (ords_prods_merge['state'] == 'Georgia') | (ords_prods_merge['state'] == 'Florida') | (ords_prods_merge['state'] == 'Kentucky') | (ords_prods_merge['state'] == 'Tennessee') | (ords_prods_merge['state'] == 'Mississippi') | (ords_prods_merge['state'] == 'Alabama') | (ords_prods_merge['state'] == 'Oklahoma') | (ords_prods_merge['state'] == 'Texas') | (ords_prods_merge['state'] == 'Arkansas') | (ords_prods_merge['state'] == 'Louisiana'), 'region'] = 'South'"
   ]
  },
  {
   "cell_type": "code",
   "execution_count": 10,
   "id": "4163531d",
   "metadata": {},
   "outputs": [],
   "source": [
    "#Setting 'region' for West states\n",
    "ords_prods_merge.loc[(ords_prods_merge['state'] == 'Idaho') | (ords_prods_merge['state'] == 'Montana') | (ords_prods_merge['state'] == 'Wyoming') | (ords_prods_merge['state'] == 'Nevada') | (ords_prods_merge['state'] == 'Utah') | (ords_prods_merge['state'] == 'Colorado') | (ords_prods_merge['state'] == 'Arizona') | (ords_prods_merge['state'] == 'New Mexico') | (ords_prods_merge['state'] == 'Alaska') | (ords_prods_merge['state'] == 'Washington') | (ords_prods_merge['state'] == 'Oregon') | (ords_prods_merge['state'] == 'California') | (ords_prods_merge['state'] == 'Hawaii'), 'region'] ='West'"
   ]
  },
  {
   "cell_type": "code",
   "execution_count": 11,
   "id": "43ef16cc",
   "metadata": {},
   "outputs": [
    {
     "data": {
      "text/plain": [
       "South        10791885\n",
       "West          8292913\n",
       "Midwest       7597325\n",
       "Northeast     5722736\n",
       "Name: region, dtype: int64"
      ]
     },
     "execution_count": 11,
     "metadata": {},
     "output_type": "execute_result"
    }
   ],
   "source": [
    "#Check region typing results distribution\n",
    "ords_prods_merge['region'].value_counts(dropna = False)"
   ]
  },
  {
   "cell_type": "markdown",
   "id": "6ecd6c0d",
   "metadata": {},
   "source": [
    "Check! (no NaN)"
   ]
  },
  {
   "cell_type": "markdown",
   "id": "24e2dbfe",
   "metadata": {},
   "source": [
    "### Compare regional spending habbits with 'spender_flag' crosstab"
   ]
  },
  {
   "cell_type": "code",
   "execution_count": 12,
   "id": "bdfbb894",
   "metadata": {},
   "outputs": [],
   "source": [
    "#Make crosstab with 'region' and 'spender_flag'\n",
    "region_spend = pd.crosstab(ords_prods_merge['region'], ords_prods_merge['spender_flag'], dropna = False)"
   ]
  },
  {
   "cell_type": "code",
   "execution_count": 13,
   "id": "33d94e4b",
   "metadata": {},
   "outputs": [
    {
     "data": {
      "text/html": [
       "<div>\n",
       "<style scoped>\n",
       "    .dataframe tbody tr th:only-of-type {\n",
       "        vertical-align: middle;\n",
       "    }\n",
       "\n",
       "    .dataframe tbody tr th {\n",
       "        vertical-align: top;\n",
       "    }\n",
       "\n",
       "    .dataframe thead th {\n",
       "        text-align: right;\n",
       "    }\n",
       "</style>\n",
       "<table border=\"1\" class=\"dataframe\">\n",
       "  <thead>\n",
       "    <tr style=\"text-align: right;\">\n",
       "      <th>spender_flag</th>\n",
       "      <th>High spender</th>\n",
       "      <th>Low spender</th>\n",
       "    </tr>\n",
       "    <tr>\n",
       "      <th>region</th>\n",
       "      <th></th>\n",
       "      <th></th>\n",
       "    </tr>\n",
       "  </thead>\n",
       "  <tbody>\n",
       "    <tr>\n",
       "      <th>Midwest</th>\n",
       "      <td>29236</td>\n",
       "      <td>7568089</td>\n",
       "    </tr>\n",
       "    <tr>\n",
       "      <th>Northeast</th>\n",
       "      <td>18635</td>\n",
       "      <td>5704101</td>\n",
       "    </tr>\n",
       "    <tr>\n",
       "      <th>South</th>\n",
       "      <td>40525</td>\n",
       "      <td>10751360</td>\n",
       "    </tr>\n",
       "    <tr>\n",
       "      <th>West</th>\n",
       "      <td>31204</td>\n",
       "      <td>8261709</td>\n",
       "    </tr>\n",
       "  </tbody>\n",
       "</table>\n",
       "</div>"
      ],
      "text/plain": [
       "spender_flag  High spender  Low spender\n",
       "region                                 \n",
       "Midwest              29236      7568089\n",
       "Northeast            18635      5704101\n",
       "South                40525     10751360\n",
       "West                 31204      8261709"
      ]
     },
     "execution_count": 13,
     "metadata": {},
     "output_type": "execute_result"
    }
   ],
   "source": [
    "#Display results\n",
    "region_spend"
   ]
  },
  {
   "cell_type": "markdown",
   "id": "7f9f54c8",
   "metadata": {},
   "source": [
    "Notes: The South has the most high spenders, but it also has the most low spenders. A ratio of high to low spenders might be more informative."
   ]
  },
  {
   "cell_type": "code",
   "execution_count": 14,
   "id": "56a71e51",
   "metadata": {
    "scrolled": true
   },
   "outputs": [],
   "source": [
    "#Calculating High spender to Low spender ratios\n",
    "region_spend['high_low_ratio'] = region_spend['High spender']/region_spend['Low spender']"
   ]
  },
  {
   "cell_type": "code",
   "execution_count": 15,
   "id": "f7c24840",
   "metadata": {},
   "outputs": [
    {
     "data": {
      "text/html": [
       "<div>\n",
       "<style scoped>\n",
       "    .dataframe tbody tr th:only-of-type {\n",
       "        vertical-align: middle;\n",
       "    }\n",
       "\n",
       "    .dataframe tbody tr th {\n",
       "        vertical-align: top;\n",
       "    }\n",
       "\n",
       "    .dataframe thead th {\n",
       "        text-align: right;\n",
       "    }\n",
       "</style>\n",
       "<table border=\"1\" class=\"dataframe\">\n",
       "  <thead>\n",
       "    <tr style=\"text-align: right;\">\n",
       "      <th>spender_flag</th>\n",
       "      <th>High spender</th>\n",
       "      <th>Low spender</th>\n",
       "      <th>high_low_ratio</th>\n",
       "    </tr>\n",
       "    <tr>\n",
       "      <th>region</th>\n",
       "      <th></th>\n",
       "      <th></th>\n",
       "      <th></th>\n",
       "    </tr>\n",
       "  </thead>\n",
       "  <tbody>\n",
       "    <tr>\n",
       "      <th>Midwest</th>\n",
       "      <td>29236</td>\n",
       "      <td>7568089</td>\n",
       "      <td>0.003863</td>\n",
       "    </tr>\n",
       "    <tr>\n",
       "      <th>Northeast</th>\n",
       "      <td>18635</td>\n",
       "      <td>5704101</td>\n",
       "      <td>0.003267</td>\n",
       "    </tr>\n",
       "    <tr>\n",
       "      <th>South</th>\n",
       "      <td>40525</td>\n",
       "      <td>10751360</td>\n",
       "      <td>0.003769</td>\n",
       "    </tr>\n",
       "    <tr>\n",
       "      <th>West</th>\n",
       "      <td>31204</td>\n",
       "      <td>8261709</td>\n",
       "      <td>0.003777</td>\n",
       "    </tr>\n",
       "  </tbody>\n",
       "</table>\n",
       "</div>"
      ],
      "text/plain": [
       "spender_flag  High spender  Low spender  high_low_ratio\n",
       "region                                                 \n",
       "Midwest              29236      7568089        0.003863\n",
       "Northeast            18635      5704101        0.003267\n",
       "South                40525     10751360        0.003769\n",
       "West                 31204      8261709        0.003777"
      ]
     },
     "execution_count": 15,
     "metadata": {},
     "output_type": "execute_result"
    }
   ],
   "source": [
    "region_spend"
   ]
  },
  {
   "cell_type": "markdown",
   "id": "c7bf7b15",
   "metadata": {},
   "source": [
    "Notes: The Midwest has the highest ratio of high to low spenders and the Northeast has the lowest."
   ]
  },
  {
   "cell_type": "code",
   "execution_count": 16,
   "id": "8e01ba0b",
   "metadata": {},
   "outputs": [],
   "source": [
    "#Export 'region_spend'\n",
    "region_spend.to_csv(os.path.join(path, '02 Data','Prepared Data', 'regional_spending_ratios.pkl'))"
   ]
  },
  {
   "cell_type": "markdown",
   "id": "da1524fa",
   "metadata": {},
   "source": [
    "# 4.  Low-activity Flag\n",
    "\n",
    "#### Create an exclusion flag for low-activity customers (customers with less than 5 orders)  and exclude them from the data."
   ]
  },
  {
   "cell_type": "code",
   "execution_count": 17,
   "id": "97d1c610",
   "metadata": {},
   "outputs": [],
   "source": [
    "#Use max_order to determine low-activity flag\n",
    "ords_prods_merge.loc[ords_prods_merge['max_order'] < 5, 'low_activity'] = True"
   ]
  },
  {
   "cell_type": "code",
   "execution_count": 18,
   "id": "310e9561",
   "metadata": {},
   "outputs": [
    {
     "data": {
      "text/plain": [
       "(32404859, 31)"
      ]
     },
     "execution_count": 18,
     "metadata": {},
     "output_type": "execute_result"
    }
   ],
   "source": [
    "#Checking shape\n",
    "ords_prods_merge.shape"
   ]
  },
  {
   "cell_type": "code",
   "execution_count": 19,
   "id": "98329da6",
   "metadata": {},
   "outputs": [
    {
     "data": {
      "text/plain": [
       "NaN     30964564\n",
       "True     1440295\n",
       "Name: low_activity, dtype: int64"
      ]
     },
     "execution_count": 19,
     "metadata": {},
     "output_type": "execute_result"
    }
   ],
   "source": [
    "#Checking for NaN values and T/F distribution\n",
    "ords_prods_merge['low_activity'].value_counts(dropna = False)"
   ]
  },
  {
   "cell_type": "code",
   "execution_count": 20,
   "id": "4cd81f57",
   "metadata": {},
   "outputs": [],
   "source": [
    "#Making a subset without low-activity users\n",
    "ords_prods_merge = ords_prods_merge[ords_prods_merge['low_activity'].isnull()]"
   ]
  },
  {
   "cell_type": "code",
   "execution_count": 21,
   "id": "62fea1f5",
   "metadata": {},
   "outputs": [
    {
     "data": {
      "text/plain": [
       "(30964564, 31)"
      ]
     },
     "execution_count": 21,
     "metadata": {},
     "output_type": "execute_result"
    }
   ],
   "source": [
    "#Checking the shape of the subset\n",
    "ords_prods_merge.shape"
   ]
  },
  {
   "cell_type": "code",
   "execution_count": 22,
   "id": "af8d3507",
   "metadata": {
    "scrolled": true
   },
   "outputs": [
    {
     "data": {
      "text/html": [
       "<div>\n",
       "<style scoped>\n",
       "    .dataframe tbody tr th:only-of-type {\n",
       "        vertical-align: middle;\n",
       "    }\n",
       "\n",
       "    .dataframe tbody tr th {\n",
       "        vertical-align: top;\n",
       "    }\n",
       "\n",
       "    .dataframe thead th {\n",
       "        text-align: right;\n",
       "    }\n",
       "</style>\n",
       "<table border=\"1\" class=\"dataframe\">\n",
       "  <thead>\n",
       "    <tr style=\"text-align: right;\">\n",
       "      <th></th>\n",
       "      <th>order_id</th>\n",
       "      <th>user_id</th>\n",
       "      <th>order_number</th>\n",
       "      <th>orders_day_of_week</th>\n",
       "      <th>order_hour_of_day</th>\n",
       "      <th>days_since_prior_order</th>\n",
       "      <th>product_id</th>\n",
       "      <th>add_to_cart_order</th>\n",
       "      <th>reordered</th>\n",
       "      <th>product_name</th>\n",
       "      <th>...</th>\n",
       "      <th>median_order_frequency</th>\n",
       "      <th>order_frequency_flag</th>\n",
       "      <th>gender</th>\n",
       "      <th>state</th>\n",
       "      <th>age</th>\n",
       "      <th>num_dependants</th>\n",
       "      <th>fam_status</th>\n",
       "      <th>income</th>\n",
       "      <th>region</th>\n",
       "      <th>low_activity</th>\n",
       "    </tr>\n",
       "  </thead>\n",
       "  <tbody>\n",
       "  </tbody>\n",
       "</table>\n",
       "<p>0 rows × 31 columns</p>\n",
       "</div>"
      ],
      "text/plain": [
       "Empty DataFrame\n",
       "Columns: [order_id, user_id, order_number, orders_day_of_week, order_hour_of_day, days_since_prior_order, product_id, add_to_cart_order, reordered, product_name, aisle_id, department_id, prices, price_range_loc, busiest_day, busy_days, busiest_period_of_day, max_order, loyalty_flag, mean_price, spender_flag, median_order_frequency, order_frequency_flag, gender, state, age, num_dependants, fam_status, income, region, low_activity]\n",
       "Index: []\n",
       "\n",
       "[0 rows x 31 columns]"
      ]
     },
     "execution_count": 22,
     "metadata": {},
     "output_type": "execute_result"
    }
   ],
   "source": [
    "#Example of dropped rows\n",
    "ords_prods_merge[ords_prods_merge['low_activity'] == 1].head(20)"
   ]
  },
  {
   "cell_type": "markdown",
   "id": "954e95d5",
   "metadata": {},
   "source": [
    "# 5. Marketing Profiles\n",
    "\n",
    "#### Create a profiling variable based on age, income, certain goods in the “department_id” column, and number of dependents. You might also use the “orders_day_of_the_week” and “order_hour_of_day” columns if you can think of a way they would impact customer profiles."
   ]
  },
  {
   "cell_type": "markdown",
   "id": "3c65c5f2",
   "metadata": {},
   "source": [
    "### 5.1 Age Profile\n",
    "Young Adult < 30\n",
    "</br> Adult >= 30 & < 65\n",
    "</br> Elder >= 65"
   ]
  },
  {
   "cell_type": "code",
   "execution_count": 23,
   "id": "6a197bf5",
   "metadata": {},
   "outputs": [],
   "source": [
    "#Young Adult group flag\n",
    "ords_prods_merge.loc[(ords_prods_merge['age'] < 30), 'age_group'] = 'Young Adult'"
   ]
  },
  {
   "cell_type": "code",
   "execution_count": 24,
   "id": "3a5d8e63",
   "metadata": {},
   "outputs": [],
   "source": [
    "#Adult group flag\n",
    "ords_prods_merge.loc[(ords_prods_merge['age'] >= 30) & (ords_prods_merge['age'] < 65), 'age_group'] = 'Adult'"
   ]
  },
  {
   "cell_type": "code",
   "execution_count": 25,
   "id": "20aa1ebf",
   "metadata": {},
   "outputs": [],
   "source": [
    "#Elderly group flag\n",
    "ords_prods_merge.loc[(ords_prods_merge['age'] >= 65), 'age_group'] = 'Elder'"
   ]
  },
  {
   "cell_type": "code",
   "execution_count": 26,
   "id": "61f576d1",
   "metadata": {},
   "outputs": [
    {
     "data": {
      "text/plain": [
       "(30964564, 32)"
      ]
     },
     "execution_count": 26,
     "metadata": {},
     "output_type": "execute_result"
    }
   ],
   "source": [
    "#Checking shape\n",
    "ords_prods_merge.shape"
   ]
  },
  {
   "cell_type": "code",
   "execution_count": 27,
   "id": "dba6495f",
   "metadata": {},
   "outputs": [
    {
     "data": {
      "text/plain": [
       "Adult          16951417\n",
       "Elder           8195544\n",
       "Young Adult     5817603\n",
       "Name: age_group, dtype: int64"
      ]
     },
     "execution_count": 27,
     "metadata": {},
     "output_type": "execute_result"
    }
   ],
   "source": [
    "#Checking distribution\n",
    "ords_prods_merge['age_group'].value_counts(dropna = False)"
   ]
  },
  {
   "cell_type": "markdown",
   "id": "6e79c387",
   "metadata": {},
   "source": [
    "### 5.2 Income Profile\n",
    "Low < 50,000\n",
    "</br>Mid >= 50,000 & < 150,000\n",
    "</br>High >= 150,000"
   ]
  },
  {
   "cell_type": "code",
   "execution_count": 28,
   "id": "9ea5a194",
   "metadata": {},
   "outputs": [],
   "source": [
    "#Low group flag\n",
    "ords_prods_merge.loc[(ords_prods_merge['income'] < 50000), 'income_group'] = 'Low'"
   ]
  },
  {
   "cell_type": "code",
   "execution_count": 29,
   "id": "fb851fea",
   "metadata": {},
   "outputs": [],
   "source": [
    "#Mid group flag\n",
    "ords_prods_merge.loc[(ords_prods_merge['income'] >= 50000) & (ords_prods_merge['income'] < 150000), 'income_group'] = 'Mid'"
   ]
  },
  {
   "cell_type": "code",
   "execution_count": 30,
   "id": "92b20e82",
   "metadata": {},
   "outputs": [],
   "source": [
    "#High group flag\n",
    "ords_prods_merge.loc[(ords_prods_merge['income'] >= 150000), 'income_group'] = 'High'"
   ]
  },
  {
   "cell_type": "code",
   "execution_count": 31,
   "id": "fabcb518",
   "metadata": {},
   "outputs": [
    {
     "data": {
      "text/plain": [
       "(30964564, 33)"
      ]
     },
     "execution_count": 31,
     "metadata": {},
     "output_type": "execute_result"
    }
   ],
   "source": [
    "#Checking shape\n",
    "ords_prods_merge.shape"
   ]
  },
  {
   "cell_type": "code",
   "execution_count": 32,
   "id": "99566966",
   "metadata": {},
   "outputs": [
    {
     "data": {
      "text/plain": [
       "Mid     23706735\n",
       "High     3895275\n",
       "Low      3362554\n",
       "Name: income_group, dtype: int64"
      ]
     },
     "execution_count": 32,
     "metadata": {},
     "output_type": "execute_result"
    }
   ],
   "source": [
    "#Checking distribution\n",
    "ords_prods_merge['income_group'].value_counts(dropna = False)"
   ]
  },
  {
   "cell_type": "markdown",
   "id": "abcffc5d",
   "metadata": {},
   "source": [
    "### 5.3 Lifestyle Profile\n",
    "Vegan: No meat/seafood (12), dairy/eggs (16)\n",
    "</br>Vegetarian: No meat/seafood (12)\n",
    "</br>Omnivore: All else\n"
   ]
  },
  {
   "cell_type": "code",
   "execution_count": 33,
   "id": "380e1149",
   "metadata": {},
   "outputs": [],
   "source": [
    "#Making Meat/Seafood flag\n",
    "ords_prods_merge.loc[ords_prods_merge['department_id'] == 12, 'meat_flag'] = 1"
   ]
  },
  {
   "cell_type": "code",
   "execution_count": 34,
   "id": "b88d59fc",
   "metadata": {},
   "outputs": [],
   "source": [
    "#Transfering results to all user results\n",
    "ords_prods_merge['meat_flag'] = ords_prods_merge.groupby('user_id')['meat_flag'].transform(np.max)"
   ]
  },
  {
   "cell_type": "code",
   "execution_count": 35,
   "id": "efbca4b0",
   "metadata": {},
   "outputs": [],
   "source": [
    "#Making Dairy/Egg flag\n",
    "ords_prods_merge.loc[(ords_prods_merge['department_id'] == 16), 'de_flag'] = 1"
   ]
  },
  {
   "cell_type": "code",
   "execution_count": 36,
   "id": "37cca3e2",
   "metadata": {},
   "outputs": [],
   "source": [
    "#Transfering results to all user results\n",
    "ords_prods_merge['de_flag'] = ords_prods_merge.groupby('user_id')['de_flag'].transform(np.max)"
   ]
  },
  {
   "cell_type": "code",
   "execution_count": 37,
   "id": "5855ffdb",
   "metadata": {},
   "outputs": [],
   "source": [
    "#Vegan Flag\n",
    "ords_prods_merge.loc[(ords_prods_merge['meat_flag'] != 1) & (ords_prods_merge['de_flag'] != 1), 'life_style'] = 'meat_flag'"
   ]
  },
  {
   "cell_type": "code",
   "execution_count": 38,
   "id": "62d5990d",
   "metadata": {},
   "outputs": [],
   "source": [
    "#Vegetarian Flag\n",
    "ords_prods_merge.loc[(ords_prods_merge['meat_flag'] != 1) & (ords_prods_merge['de_flag'] == 1), 'life_style'] = 'Vegetarian'"
   ]
  },
  {
   "cell_type": "code",
   "execution_count": 39,
   "id": "2d82a235",
   "metadata": {},
   "outputs": [],
   "source": [
    "#Omnivore Flag\n",
    "ords_prods_merge.loc[(ords_prods_merge['meat_flag'] == 1), 'life_style'] = 'Omnivore'"
   ]
  },
  {
   "cell_type": "code",
   "execution_count": 40,
   "id": "9e9f71d6",
   "metadata": {
    "scrolled": true
   },
   "outputs": [
    {
     "data": {
      "text/plain": [
       "Omnivore      23065332\n",
       "Vegetarian     7589236\n",
       "Vegan           309996\n",
       "Name: life_style, dtype: int64"
      ]
     },
     "execution_count": 40,
     "metadata": {},
     "output_type": "execute_result"
    }
   ],
   "source": [
    "#Check output spread\n",
    "ords_prods_merge['life_style'].value_counts(dropna = False)"
   ]
  },
  {
   "cell_type": "code",
   "execution_count": 41,
   "id": "81ba4e5b",
   "metadata": {
    "scrolled": true
   },
   "outputs": [
    {
     "data": {
      "text/plain": [
       "(30964564, 36)"
      ]
     },
     "execution_count": 41,
     "metadata": {},
     "output_type": "execute_result"
    }
   ],
   "source": [
    "#Check shape\n",
    "ords_prods_merge.shape"
   ]
  },
  {
   "cell_type": "markdown",
   "id": "bddc1be6",
   "metadata": {},
   "source": [
    "### 5.4 Alcohol Flag\n",
    "If purchases have been made by user in depatment 5, alochol_flag = 1, else 0."
   ]
  },
  {
   "cell_type": "code",
   "execution_count": 42,
   "id": "03b037c5",
   "metadata": {},
   "outputs": [],
   "source": [
    "#Flagging purchases from Alcohol dept\n",
    "ords_prods_merge.loc[ords_prods_merge['department_id'] == 5, 'alcohol_flag'] = 1"
   ]
  },
  {
   "cell_type": "code",
   "execution_count": 43,
   "id": "f2d3b799",
   "metadata": {},
   "outputs": [],
   "source": [
    "#Populating entire user_id with flag\n",
    "ords_prods_merge['alcohol_flag'] = ords_prods_merge.groupby('user_id')['alcohol_flag'].transform(np.max)"
   ]
  },
  {
   "cell_type": "code",
   "execution_count": 44,
   "id": "c27bdaaa",
   "metadata": {},
   "outputs": [],
   "source": [
    "#Setting NaN values to 0\n",
    "ords_prods_merge.loc[ords_prods_merge['alcohol_flag'].isnull(), 'alcohol_flag'] = 0"
   ]
  },
  {
   "cell_type": "code",
   "execution_count": 45,
   "id": "5995673f",
   "metadata": {
    "scrolled": true
   },
   "outputs": [
    {
     "data": {
      "text/plain": [
       "0.0    28634074\n",
       "1.0     2330490\n",
       "Name: alcohol_flag, dtype: int64"
      ]
     },
     "execution_count": 45,
     "metadata": {},
     "output_type": "execute_result"
    }
   ],
   "source": [
    "#Check output spread\n",
    "ords_prods_merge['alcohol_flag'].value_counts(dropna = False)"
   ]
  },
  {
   "cell_type": "code",
   "execution_count": 46,
   "id": "c599da9e",
   "metadata": {
    "scrolled": true
   },
   "outputs": [
    {
     "data": {
      "text/plain": [
       "(30964564, 37)"
      ]
     },
     "execution_count": 46,
     "metadata": {},
     "output_type": "execute_result"
    }
   ],
   "source": [
    "#Check shape\n",
    "ords_prods_merge.shape"
   ]
  },
  {
   "cell_type": "markdown",
   "id": "3ba23c8d",
   "metadata": {},
   "source": [
    "### 5.5 Baby at home\n",
    "If purchases have been made by user in depatment 18, baby_flag = 1, else 0."
   ]
  },
  {
   "cell_type": "code",
   "execution_count": 47,
   "id": "5b458584",
   "metadata": {},
   "outputs": [],
   "source": [
    "#Flagging purchases from Alcohol dept\n",
    "ords_prods_merge.loc[ords_prods_merge['department_id'] == 18, 'baby_flag'] = 1"
   ]
  },
  {
   "cell_type": "code",
   "execution_count": 48,
   "id": "638eb797",
   "metadata": {},
   "outputs": [],
   "source": [
    "#Populating entire user_id with flag\n",
    "ords_prods_merge['baby_flag'] = ords_prods_merge.groupby('user_id')['baby_flag'].transform(np.max)"
   ]
  },
  {
   "cell_type": "code",
   "execution_count": 49,
   "id": "f1e1f948",
   "metadata": {},
   "outputs": [],
   "source": [
    "#Setting NaN values to 0\n",
    "ords_prods_merge.loc[ords_prods_merge['baby_flag'].isnull(), 'baby_flag'] = 0"
   ]
  },
  {
   "cell_type": "code",
   "execution_count": 50,
   "id": "6558e93e",
   "metadata": {
    "scrolled": false
   },
   "outputs": [
    {
     "data": {
      "text/plain": [
       "0.0    21154311\n",
       "1.0     9810253\n",
       "Name: baby_flag, dtype: int64"
      ]
     },
     "execution_count": 50,
     "metadata": {},
     "output_type": "execute_result"
    }
   ],
   "source": [
    "#Check output spread\n",
    "ords_prods_merge['baby_flag'].value_counts(dropna = False)"
   ]
  },
  {
   "cell_type": "code",
   "execution_count": 51,
   "id": "f122caea",
   "metadata": {
    "scrolled": true
   },
   "outputs": [
    {
     "data": {
      "text/plain": [
       "(30964564, 38)"
      ]
     },
     "execution_count": 51,
     "metadata": {},
     "output_type": "execute_result"
    }
   ],
   "source": [
    "#Check shape\n",
    "ords_prods_merge.shape"
   ]
  },
  {
   "cell_type": "markdown",
   "id": "5d2933ab",
   "metadata": {},
   "source": [
    "### 5.6 Favorite Shopping Time Period\n",
    "Mode shopping time = x\n",
    "</br>Midnight 12-4: x >= 0 , x < 5\n",
    "</br>Morning 5-9: x >= 5 & x < 10\n",
    "</br>Mid-day 10-4: x >= 10 & x < 17\n",
    "</br>Night 5-11: x >= 17 & x < 24"
   ]
  },
  {
   "cell_type": "code",
   "execution_count": 52,
   "id": "7caf140d",
   "metadata": {},
   "outputs": [],
   "source": [
    "#Finding mean shopping time per user_id\n",
    "ords_prods_merge['mode_shopping_time'] = ords_prods_merge.groupby('user_id')['order_hour_of_day'].transform(lambda x: x.value_counts().idxmax())"
   ]
  },
  {
   "cell_type": "code",
   "execution_count": 53,
   "id": "9308a66f",
   "metadata": {},
   "outputs": [],
   "source": [
    "#Making Midnight fav_shopping_time flag\n",
    "ords_prods_merge.loc[(ords_prods_merge['mode_shopping_time'] >= 0) & (ords_prods_merge['mode_shopping_time'] < 5), 'fav_shopping_time'] = 'Midnight'"
   ]
  },
  {
   "cell_type": "code",
   "execution_count": 54,
   "id": "fb213a9d",
   "metadata": {},
   "outputs": [],
   "source": [
    "#Making Morning fav_shopping_time flag\n",
    "ords_prods_merge.loc[(ords_prods_merge['mode_shopping_time'] >= 5) & (ords_prods_merge['mode_shopping_time'] < 10), 'fav_shopping_time'] = 'Morning'"
   ]
  },
  {
   "cell_type": "code",
   "execution_count": 55,
   "id": "e07e4ba9",
   "metadata": {},
   "outputs": [],
   "source": [
    "#Making Mid-day fav_shopping_time flag\n",
    "ords_prods_merge.loc[(ords_prods_merge['mode_shopping_time'] >= 10) & (ords_prods_merge['mode_shopping_time'] < 17), 'fav_shopping_time'] = 'Mid-day'"
   ]
  },
  {
   "cell_type": "code",
   "execution_count": 56,
   "id": "c9b69400",
   "metadata": {},
   "outputs": [],
   "source": [
    "#Making Night fav_shopping_time flag\n",
    "ords_prods_merge.loc[(ords_prods_merge['mode_shopping_time'] >= 17) & (ords_prods_merge['mode_shopping_time'] < 24), 'fav_shopping_time'] = 'Night'"
   ]
  },
  {
   "cell_type": "code",
   "execution_count": 57,
   "id": "6fe8be40",
   "metadata": {
    "scrolled": false
   },
   "outputs": [
    {
     "data": {
      "text/plain": [
       "Mid-day     18945034\n",
       "Night        6175656\n",
       "Morning      5623992\n",
       "Midnight      219882\n",
       "Name: fav_shopping_time, dtype: int64"
      ]
     },
     "execution_count": 57,
     "metadata": {},
     "output_type": "execute_result"
    }
   ],
   "source": [
    "#Check output spread\n",
    "ords_prods_merge['fav_shopping_time'].value_counts(dropna = False)"
   ]
  },
  {
   "cell_type": "code",
   "execution_count": 58,
   "id": "ea823e65",
   "metadata": {
    "scrolled": true
   },
   "outputs": [
    {
     "data": {
      "text/plain": [
       "(30964564, 40)"
      ]
     },
     "execution_count": 58,
     "metadata": {},
     "output_type": "execute_result"
    }
   ],
   "source": [
    "#Check shape\n",
    "ords_prods_merge.shape"
   ]
  },
  {
   "cell_type": "markdown",
   "id": "871f5316",
   "metadata": {},
   "source": [
    "# 6. Dropping Unused Variables"
   ]
  },
  {
   "cell_type": "code",
   "execution_count": 61,
   "id": "b5f1449d",
   "metadata": {},
   "outputs": [],
   "source": [
    "#dropping add_to_cart_order, reordered, aisle_id\n",
    "ords_prods_merge = ords_prods_merge.drop(columns = ['add_to_cart_order', 'reordered', 'aisle_id'])"
   ]
  },
  {
   "cell_type": "code",
   "execution_count": 62,
   "id": "91b4c0d1",
   "metadata": {},
   "outputs": [
    {
     "data": {
      "text/plain": [
       "(30964564, 37)"
      ]
     },
     "execution_count": 62,
     "metadata": {},
     "output_type": "execute_result"
    }
   ],
   "source": [
    "#checking shape\n",
    "ords_prods_merge.shape"
   ]
  },
  {
   "cell_type": "markdown",
   "id": "43f94944",
   "metadata": {},
   "source": [
    "# 7. Exporting Data Set"
   ]
  },
  {
   "cell_type": "code",
   "execution_count": 63,
   "id": "422ec753",
   "metadata": {},
   "outputs": [],
   "source": [
    "#exporting final dataset of unique customers\n",
    "ords_prods_merge.to_pickle(os.path.join(path, '02 Data','Prepared Data', 'orders_products_customers_final.pkl'))"
   ]
  }
 ],
 "metadata": {
  "kernelspec": {
   "display_name": "Python 3 (ipykernel)",
   "language": "python",
   "name": "python3"
  },
  "language_info": {
   "codemirror_mode": {
    "name": "ipython",
    "version": 3
   },
   "file_extension": ".py",
   "mimetype": "text/x-python",
   "name": "python",
   "nbconvert_exporter": "python",
   "pygments_lexer": "ipython3",
   "version": "3.9.13"
  }
 },
 "nbformat": 4,
 "nbformat_minor": 5
}
