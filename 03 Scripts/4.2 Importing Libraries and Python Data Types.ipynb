{
 "cells": [
  {
   "cell_type": "markdown",
   "id": "0c3bb809",
   "metadata": {},
   "source": [
    "# 4.2 Importing Libraries and Python Data Types\n",
    "### 1. Import Libraries\n",
    "### 2. Data Type"
   ]
  },
  {
   "cell_type": "markdown",
   "id": "cd4c6631",
   "metadata": {},
   "source": [
    "# 1. Import Libraries"
   ]
  },
  {
   "cell_type": "code",
   "execution_count": 1,
   "id": "1268b328",
   "metadata": {},
   "outputs": [],
   "source": [
    "# Import Libraries - Pandas, NumPy, and OS\n",
    "import pandas as pd\n",
    "import numpy as np\n",
    "import os"
   ]
  },
  {
   "cell_type": "markdown",
   "id": "a24c9790",
   "metadata": {},
   "source": [
    "# 2. Data Types"
   ]
  },
  {
   "cell_type": "code",
   "execution_count": 36,
   "id": "f5c6456e",
   "metadata": {},
   "outputs": [
    {
     "data": {
      "text/plain": [
       "(100, 100, 100)"
      ]
     },
     "execution_count": 36,
     "metadata": {},
     "output_type": "execute_result"
    }
   ],
   "source": [
    "#Integers - three ways to 100\n",
    "a = 90\n",
    "b = 10 \n",
    "c = 99\n",
    "d = 1\n",
    "e = 200\n",
    "a + b, c + d, e - a - b"
   ]
  },
  {
   "cell_type": "code",
   "execution_count": 33,
   "id": "1a10c9f1",
   "metadata": {},
   "outputs": [
    {
     "data": {
      "text/plain": [
       "(0.168902688172043, 5.920568883909104)"
      ]
     },
     "execution_count": 33,
     "metadata": {},
     "output_type": "execute_result"
    }
   ],
   "source": [
    "#Floating Point Numbers - define two float variables and devide them by eachother\n",
    "f = 3.14159\n",
    "g = 18.6\n",
    "f/g, g/f"
   ]
  },
  {
   "cell_type": "code",
   "execution_count": 35,
   "id": "d927d107",
   "metadata": {},
   "outputs": [
    {
     "data": {
      "text/plain": [
       "'banana'"
      ]
     },
     "execution_count": 35,
     "metadata": {},
     "output_type": "execute_result"
    }
   ],
   "source": [
    "#Strings - write a word by concatenating two strings\n",
    "h = 'ban'\n",
    "i = 'ana'\n",
    "h + i"
   ]
  },
  {
   "cell_type": "code",
   "execution_count": 37,
   "id": "f5d21253",
   "metadata": {},
   "outputs": [
    {
     "data": {
      "text/plain": [
       "'Today is the first day of the rest of your life.'"
      ]
     },
     "execution_count": 37,
     "metadata": {},
     "output_type": "execute_result"
    }
   ],
   "source": [
    "#Strings 2 - write 2 sentences made of separate strings\n",
    "j = 'Today is the fi'\n",
    "k = 'rst day of the rest o'\n",
    "l = 'f your life.'\n",
    "j + k + l"
   ]
  },
  {
   "cell_type": "code",
   "execution_count": 41,
   "id": "92738d07",
   "metadata": {},
   "outputs": [
    {
     "data": {
      "text/plain": [
       "'zanzabar zanzabar zanzabar zanzabar zanzabar zanzabar zanzabar zanzabar zanzabar zanzabar zanzabar zanzabar zanzabar zanzabar zanzabar zanzabar zanzabar zanzabar zanzabar zanzabar zanzabar zanzabar zanzabar zanzabar zanzabar zanzabar zanzabar zanzabar zanzabar zanzabar zanzabar zanzabar zanzabar zanzabar zanzabar zanzabar zanzabar zanzabar zanzabar zanzabar zanzabar zanzabar zanzabar zanzabar zanzabar zanzabar zanzabar zanzabar zanzabar zanzabar zanzabar zanzabar zanzabar zanzabar zanzabar zanzabar zanzabar zanzabar zanzabar zanzabar zanzabar zanzabar zanzabar zanzabar zanzabar zanzabar zanzabar zanzabar zanzabar zanzabar zanzabar zanzabar zanzabar zanzabar zanzabar zanzabar zanzabar zanzabar zanzabar zanzabar zanzabar zanzabar zanzabar zanzabar zanzabar zanzabar zanzabar zanzabar zanzabar zanzabar zanzabar zanzabar zanzabar zanzabar zanzabar zanzabar zanzabar zanzabar zanzabar zanzabar '"
      ]
     },
     "execution_count": 41,
     "metadata": {},
     "output_type": "execute_result"
    }
   ],
   "source": [
    "#Bonus - make a string appear 100 times\n",
    "m = 'zanzabar '\n",
    "m * 100"
   ]
  }
 ],
 "metadata": {
  "kernelspec": {
   "display_name": "Python 3 (ipykernel)",
   "language": "python",
   "name": "python3"
  },
  "language_info": {
   "codemirror_mode": {
    "name": "ipython",
    "version": 3
   },
   "file_extension": ".py",
   "mimetype": "text/x-python",
   "name": "python",
   "nbconvert_exporter": "python",
   "pygments_lexer": "ipython3",
   "version": "3.9.13"
  }
 },
 "nbformat": 4,
 "nbformat_minor": 5
}
